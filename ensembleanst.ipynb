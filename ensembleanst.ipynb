{
 "cells": [
  {
   "cell_type": "code",
   "execution_count": 1,
   "metadata": {},
   "outputs": [],
   "source": [
    "import numpy as np # linear algebra\n",
    "import pandas as pd "
   ]
  },
  {
   "cell_type": "code",
   "execution_count": 3,
   "metadata": {},
   "outputs": [],
   "source": [
    "ams = pd.read_json('amsterdam.json')\n"
   ]
  },
  {
   "cell_type": "code",
   "execution_count": 4,
   "metadata": {},
   "outputs": [
    {
     "data": {
      "text/html": [
       "<div>\n",
       "<style scoped>\n",
       "    .dataframe tbody tr th:only-of-type {\n",
       "        vertical-align: middle;\n",
       "    }\n",
       "\n",
       "    .dataframe tbody tr th {\n",
       "        vertical-align: top;\n",
       "    }\n",
       "\n",
       "    .dataframe thead th {\n",
       "        text-align: right;\n",
       "    }\n",
       "</style>\n",
       "<table border=\"1\" class=\"dataframe\">\n",
       "  <thead>\n",
       "    <tr style=\"text-align: right;\">\n",
       "      <th></th>\n",
       "      <th>host_listings_count</th>\n",
       "      <th>accommodates</th>\n",
       "      <th>bathrooms</th>\n",
       "      <th>bedrooms</th>\n",
       "      <th>guests_included</th>\n",
       "      <th>minimum_nights</th>\n",
       "      <th>number_of_reviews</th>\n",
       "      <th>calculated_host_listings_count</th>\n",
       "      <th>price</th>\n",
       "      <th>latitude</th>\n",
       "      <th>longitude</th>\n",
       "      <th>room_type</th>\n",
       "      <th>instant_bookable</th>\n",
       "    </tr>\n",
       "  </thead>\n",
       "  <tbody>\n",
       "    <tr>\n",
       "      <th>0</th>\n",
       "      <td>1.0</td>\n",
       "      <td>6</td>\n",
       "      <td>1.0</td>\n",
       "      <td>2.0</td>\n",
       "      <td>1</td>\n",
       "      <td>3</td>\n",
       "      <td>4</td>\n",
       "      <td>1</td>\n",
       "      <td>$145.00</td>\n",
       "      <td>52.361173</td>\n",
       "      <td>4.866755</td>\n",
       "      <td>Entire home/apt</td>\n",
       "      <td>f</td>\n",
       "    </tr>\n",
       "    <tr>\n",
       "      <th>1</th>\n",
       "      <td>1.0</td>\n",
       "      <td>2</td>\n",
       "      <td>1.0</td>\n",
       "      <td>1.0</td>\n",
       "      <td>1</td>\n",
       "      <td>2</td>\n",
       "      <td>17</td>\n",
       "      <td>1</td>\n",
       "      <td>$88.00</td>\n",
       "      <td>52.370237</td>\n",
       "      <td>4.859507</td>\n",
       "      <td>Entire home/apt</td>\n",
       "      <td>f</td>\n",
       "    </tr>\n",
       "    <tr>\n",
       "      <th>10</th>\n",
       "      <td>1.0</td>\n",
       "      <td>2</td>\n",
       "      <td>1.0</td>\n",
       "      <td>1.0</td>\n",
       "      <td>1</td>\n",
       "      <td>3</td>\n",
       "      <td>0</td>\n",
       "      <td>1</td>\n",
       "      <td>$130.00</td>\n",
       "      <td>52.371424</td>\n",
       "      <td>4.848644</td>\n",
       "      <td>Entire home/apt</td>\n",
       "      <td>f</td>\n",
       "    </tr>\n",
       "    <tr>\n",
       "      <th>100</th>\n",
       "      <td>1.0</td>\n",
       "      <td>5</td>\n",
       "      <td>1.0</td>\n",
       "      <td>4.0</td>\n",
       "      <td>1</td>\n",
       "      <td>5</td>\n",
       "      <td>2</td>\n",
       "      <td>1</td>\n",
       "      <td>$90.00</td>\n",
       "      <td>52.312889</td>\n",
       "      <td>4.980151</td>\n",
       "      <td>Entire home/apt</td>\n",
       "      <td>f</td>\n",
       "    </tr>\n",
       "    <tr>\n",
       "      <th>1000</th>\n",
       "      <td>1.0</td>\n",
       "      <td>1</td>\n",
       "      <td>1.0</td>\n",
       "      <td>1.0</td>\n",
       "      <td>1</td>\n",
       "      <td>1</td>\n",
       "      <td>32</td>\n",
       "      <td>1</td>\n",
       "      <td>$39.00</td>\n",
       "      <td>52.395334</td>\n",
       "      <td>4.916701</td>\n",
       "      <td>Private room</td>\n",
       "      <td>t</td>\n",
       "    </tr>\n",
       "  </tbody>\n",
       "</table>\n",
       "</div>"
      ],
      "text/plain": [
       "      host_listings_count  accommodates  bathrooms  bedrooms  guests_included  \\\n",
       "0                     1.0             6        1.0       2.0                1   \n",
       "1                     1.0             2        1.0       1.0                1   \n",
       "10                    1.0             2        1.0       1.0                1   \n",
       "100                   1.0             5        1.0       4.0                1   \n",
       "1000                  1.0             1        1.0       1.0                1   \n",
       "\n",
       "      minimum_nights  number_of_reviews  calculated_host_listings_count  \\\n",
       "0                  3                  4                               1   \n",
       "1                  2                 17                               1   \n",
       "10                 3                  0                               1   \n",
       "100                5                  2                               1   \n",
       "1000               1                 32                               1   \n",
       "\n",
       "        price   latitude  longitude        room_type instant_bookable  \n",
       "0     $145.00  52.361173   4.866755  Entire home/apt                f  \n",
       "1      $88.00  52.370237   4.859507  Entire home/apt                f  \n",
       "10    $130.00  52.371424   4.848644  Entire home/apt                f  \n",
       "100    $90.00  52.312889   4.980151  Entire home/apt                f  \n",
       "1000   $39.00  52.395334   4.916701     Private room                t  "
      ]
     },
     "execution_count": 4,
     "metadata": {},
     "output_type": "execute_result"
    }
   ],
   "source": [
    "ams.head()\n"
   ]
  },
  {
   "cell_type": "code",
   "execution_count": 5,
   "metadata": {},
   "outputs": [
    {
     "data": {
      "text/plain": [
       "(15181, 13)"
      ]
     },
     "execution_count": 5,
     "metadata": {},
     "output_type": "execute_result"
    }
   ],
   "source": [
    "ams.shape\n"
   ]
  },
  {
   "cell_type": "code",
   "execution_count": 6,
   "metadata": {},
   "outputs": [
    {
     "data": {
      "text/plain": [
       "Index(['host_listings_count', 'accommodates', 'bathrooms', 'bedrooms',\n",
       "       'guests_included', 'minimum_nights', 'number_of_reviews',\n",
       "       'calculated_host_listings_count', 'price', 'latitude', 'longitude',\n",
       "       'room_type', 'instant_bookable'],\n",
       "      dtype='object')"
      ]
     },
     "execution_count": 6,
     "metadata": {},
     "output_type": "execute_result"
    }
   ],
   "source": [
    "ams.columns\n"
   ]
  },
  {
   "cell_type": "code",
   "execution_count": 7,
   "metadata": {},
   "outputs": [
    {
     "data": {
      "text/plain": [
       "host_listings_count                3\n",
       "accommodates                       0\n",
       "bathrooms                         18\n",
       "bedrooms                          12\n",
       "guests_included                    0\n",
       "minimum_nights                     0\n",
       "number_of_reviews                  0\n",
       "calculated_host_listings_count     0\n",
       "price                              0\n",
       "latitude                           0\n",
       "longitude                          0\n",
       "room_type                          0\n",
       "instant_bookable                   0\n",
       "dtype: int64"
      ]
     },
     "execution_count": 7,
     "metadata": {},
     "output_type": "execute_result"
    }
   ],
   "source": [
    "ams.isnull().sum()\n"
   ]
  },
  {
   "cell_type": "code",
   "execution_count": 8,
   "metadata": {},
   "outputs": [
    {
     "data": {
      "text/html": [
       "<div>\n",
       "<style scoped>\n",
       "    .dataframe tbody tr th:only-of-type {\n",
       "        vertical-align: middle;\n",
       "    }\n",
       "\n",
       "    .dataframe tbody tr th {\n",
       "        vertical-align: top;\n",
       "    }\n",
       "\n",
       "    .dataframe thead th {\n",
       "        text-align: right;\n",
       "    }\n",
       "</style>\n",
       "<table border=\"1\" class=\"dataframe\">\n",
       "  <thead>\n",
       "    <tr style=\"text-align: right;\">\n",
       "      <th></th>\n",
       "      <th>host_listings_count</th>\n",
       "      <th>accommodates</th>\n",
       "      <th>bathrooms</th>\n",
       "      <th>bedrooms</th>\n",
       "      <th>guests_included</th>\n",
       "      <th>minimum_nights</th>\n",
       "      <th>number_of_reviews</th>\n",
       "      <th>calculated_host_listings_count</th>\n",
       "      <th>latitude</th>\n",
       "      <th>longitude</th>\n",
       "    </tr>\n",
       "  </thead>\n",
       "  <tbody>\n",
       "    <tr>\n",
       "      <th>count</th>\n",
       "      <td>15178.000000</td>\n",
       "      <td>15181.000000</td>\n",
       "      <td>15163.000000</td>\n",
       "      <td>15169.000000</td>\n",
       "      <td>15181.000000</td>\n",
       "      <td>15181.000000</td>\n",
       "      <td>15181.000000</td>\n",
       "      <td>15181.000000</td>\n",
       "      <td>15181.000000</td>\n",
       "      <td>15181.000000</td>\n",
       "    </tr>\n",
       "    <tr>\n",
       "      <th>mean</th>\n",
       "      <td>3.404994</td>\n",
       "      <td>2.917858</td>\n",
       "      <td>1.122832</td>\n",
       "      <td>1.412222</td>\n",
       "      <td>1.516106</td>\n",
       "      <td>2.882551</td>\n",
       "      <td>17.785456</td>\n",
       "      <td>2.934787</td>\n",
       "      <td>52.365353</td>\n",
       "      <td>4.889025</td>\n",
       "    </tr>\n",
       "    <tr>\n",
       "      <th>std</th>\n",
       "      <td>11.324173</td>\n",
       "      <td>1.404973</td>\n",
       "      <td>0.356547</td>\n",
       "      <td>0.885127</td>\n",
       "      <td>1.004709</td>\n",
       "      <td>7.215722</td>\n",
       "      <td>34.747999</td>\n",
       "      <td>8.968696</td>\n",
       "      <td>0.015738</td>\n",
       "      <td>0.034901</td>\n",
       "    </tr>\n",
       "    <tr>\n",
       "      <th>min</th>\n",
       "      <td>0.000000</td>\n",
       "      <td>1.000000</td>\n",
       "      <td>0.000000</td>\n",
       "      <td>0.000000</td>\n",
       "      <td>1.000000</td>\n",
       "      <td>1.000000</td>\n",
       "      <td>0.000000</td>\n",
       "      <td>1.000000</td>\n",
       "      <td>52.290308</td>\n",
       "      <td>4.753513</td>\n",
       "    </tr>\n",
       "    <tr>\n",
       "      <th>25%</th>\n",
       "      <td>1.000000</td>\n",
       "      <td>2.000000</td>\n",
       "      <td>1.000000</td>\n",
       "      <td>1.000000</td>\n",
       "      <td>1.000000</td>\n",
       "      <td>2.000000</td>\n",
       "      <td>2.000000</td>\n",
       "      <td>1.000000</td>\n",
       "      <td>52.355616</td>\n",
       "      <td>4.865016</td>\n",
       "    </tr>\n",
       "    <tr>\n",
       "      <th>50%</th>\n",
       "      <td>1.000000</td>\n",
       "      <td>2.000000</td>\n",
       "      <td>1.000000</td>\n",
       "      <td>1.000000</td>\n",
       "      <td>1.000000</td>\n",
       "      <td>2.000000</td>\n",
       "      <td>7.000000</td>\n",
       "      <td>1.000000</td>\n",
       "      <td>52.365028</td>\n",
       "      <td>4.886344</td>\n",
       "    </tr>\n",
       "    <tr>\n",
       "      <th>75%</th>\n",
       "      <td>1.000000</td>\n",
       "      <td>4.000000</td>\n",
       "      <td>1.000000</td>\n",
       "      <td>2.000000</td>\n",
       "      <td>2.000000</td>\n",
       "      <td>3.000000</td>\n",
       "      <td>18.000000</td>\n",
       "      <td>1.000000</td>\n",
       "      <td>52.374829</td>\n",
       "      <td>4.907857</td>\n",
       "    </tr>\n",
       "    <tr>\n",
       "      <th>max</th>\n",
       "      <td>106.000000</td>\n",
       "      <td>17.000000</td>\n",
       "      <td>8.000000</td>\n",
       "      <td>10.000000</td>\n",
       "      <td>16.000000</td>\n",
       "      <td>523.000000</td>\n",
       "      <td>496.000000</td>\n",
       "      <td>91.000000</td>\n",
       "      <td>52.426224</td>\n",
       "      <td>5.027689</td>\n",
       "    </tr>\n",
       "  </tbody>\n",
       "</table>\n",
       "</div>"
      ],
      "text/plain": [
       "       host_listings_count  accommodates     bathrooms      bedrooms  \\\n",
       "count         15178.000000  15181.000000  15163.000000  15169.000000   \n",
       "mean              3.404994      2.917858      1.122832      1.412222   \n",
       "std              11.324173      1.404973      0.356547      0.885127   \n",
       "min               0.000000      1.000000      0.000000      0.000000   \n",
       "25%               1.000000      2.000000      1.000000      1.000000   \n",
       "50%               1.000000      2.000000      1.000000      1.000000   \n",
       "75%               1.000000      4.000000      1.000000      2.000000   \n",
       "max             106.000000     17.000000      8.000000     10.000000   \n",
       "\n",
       "       guests_included  minimum_nights  number_of_reviews  \\\n",
       "count     15181.000000    15181.000000       15181.000000   \n",
       "mean          1.516106        2.882551          17.785456   \n",
       "std           1.004709        7.215722          34.747999   \n",
       "min           1.000000        1.000000           0.000000   \n",
       "25%           1.000000        2.000000           2.000000   \n",
       "50%           1.000000        2.000000           7.000000   \n",
       "75%           2.000000        3.000000          18.000000   \n",
       "max          16.000000      523.000000         496.000000   \n",
       "\n",
       "       calculated_host_listings_count      latitude     longitude  \n",
       "count                    15181.000000  15181.000000  15181.000000  \n",
       "mean                         2.934787     52.365353      4.889025  \n",
       "std                          8.968696      0.015738      0.034901  \n",
       "min                          1.000000     52.290308      4.753513  \n",
       "25%                          1.000000     52.355616      4.865016  \n",
       "50%                          1.000000     52.365028      4.886344  \n",
       "75%                          1.000000     52.374829      4.907857  \n",
       "max                         91.000000     52.426224      5.027689  "
      ]
     },
     "execution_count": 8,
     "metadata": {},
     "output_type": "execute_result"
    }
   ],
   "source": [
    "ams.describe()\n"
   ]
  },
  {
   "cell_type": "code",
   "execution_count": 9,
   "metadata": {},
   "outputs": [
    {
     "data": {
      "text/plain": [
       "0       $145.00\n",
       "1        $88.00\n",
       "10      $130.00\n",
       "100      $90.00\n",
       "1000     $39.00\n",
       "Name: price, dtype: object"
      ]
     },
     "execution_count": 9,
     "metadata": {},
     "output_type": "execute_result"
    }
   ],
   "source": [
    "ams['price'].head()\n"
   ]
  },
  {
   "cell_type": "code",
   "execution_count": 10,
   "metadata": {},
   "outputs": [],
   "source": [
    "ams['price']=ams['price'].str.replace(',','')\n",
    "ams['price']=ams['price'].str.replace('$','')"
   ]
  },
  {
   "cell_type": "code",
   "execution_count": 11,
   "metadata": {},
   "outputs": [
    {
     "data": {
      "text/plain": [
       "0       145.00\n",
       "1        88.00\n",
       "10      130.00\n",
       "100      90.00\n",
       "1000     39.00\n",
       "Name: price, dtype: object"
      ]
     },
     "execution_count": 11,
     "metadata": {},
     "output_type": "execute_result"
    }
   ],
   "source": [
    "ams['price'].head()\n"
   ]
  },
  {
   "cell_type": "code",
   "execution_count": 12,
   "metadata": {},
   "outputs": [
    {
     "data": {
      "text/plain": [
       "pandas.core.series.Series"
      ]
     },
     "execution_count": 12,
     "metadata": {},
     "output_type": "execute_result"
    }
   ],
   "source": [
    "type(ams['price'])\n"
   ]
  },
  {
   "cell_type": "code",
   "execution_count": 13,
   "metadata": {},
   "outputs": [],
   "source": [
    "ams=pd.DataFrame(ams)\n"
   ]
  },
  {
   "cell_type": "code",
   "execution_count": 14,
   "metadata": {},
   "outputs": [
    {
     "name": "stderr",
     "output_type": "stream",
     "text": [
      "C:\\Users\\Admin\\Anaconda3\\lib\\site-packages\\ipykernel_launcher.py:1: FutureWarning: convert_objects is deprecated.  To re-infer data dtypes for object columns, use DataFrame.infer_objects()\n",
      "For all other conversions use the data-type specific converters pd.to_datetime, pd.to_timedelta and pd.to_numeric.\n",
      "  \"\"\"Entry point for launching an IPython kernel.\n"
     ]
    }
   ],
   "source": [
    "ams=ams.convert_objects(convert_numeric=True)\n"
   ]
  },
  {
   "cell_type": "code",
   "execution_count": 15,
   "metadata": {},
   "outputs": [
    {
     "data": {
      "text/html": [
       "<div>\n",
       "<style scoped>\n",
       "    .dataframe tbody tr th:only-of-type {\n",
       "        vertical-align: middle;\n",
       "    }\n",
       "\n",
       "    .dataframe tbody tr th {\n",
       "        vertical-align: top;\n",
       "    }\n",
       "\n",
       "    .dataframe thead th {\n",
       "        text-align: right;\n",
       "    }\n",
       "</style>\n",
       "<table border=\"1\" class=\"dataframe\">\n",
       "  <thead>\n",
       "    <tr style=\"text-align: right;\">\n",
       "      <th></th>\n",
       "      <th>host_listings_count</th>\n",
       "      <th>accommodates</th>\n",
       "      <th>bathrooms</th>\n",
       "      <th>bedrooms</th>\n",
       "      <th>guests_included</th>\n",
       "      <th>minimum_nights</th>\n",
       "      <th>number_of_reviews</th>\n",
       "      <th>calculated_host_listings_count</th>\n",
       "      <th>price</th>\n",
       "      <th>latitude</th>\n",
       "      <th>longitude</th>\n",
       "    </tr>\n",
       "  </thead>\n",
       "  <tbody>\n",
       "    <tr>\n",
       "      <th>count</th>\n",
       "      <td>15178.000000</td>\n",
       "      <td>15181.000000</td>\n",
       "      <td>15163.000000</td>\n",
       "      <td>15169.000000</td>\n",
       "      <td>15181.000000</td>\n",
       "      <td>15181.000000</td>\n",
       "      <td>15181.000000</td>\n",
       "      <td>15181.000000</td>\n",
       "      <td>15181.000000</td>\n",
       "      <td>15181.000000</td>\n",
       "      <td>15181.000000</td>\n",
       "    </tr>\n",
       "    <tr>\n",
       "      <th>mean</th>\n",
       "      <td>3.404994</td>\n",
       "      <td>2.917858</td>\n",
       "      <td>1.122832</td>\n",
       "      <td>1.412222</td>\n",
       "      <td>1.516106</td>\n",
       "      <td>2.882551</td>\n",
       "      <td>17.785456</td>\n",
       "      <td>2.934787</td>\n",
       "      <td>134.799223</td>\n",
       "      <td>52.365353</td>\n",
       "      <td>4.889025</td>\n",
       "    </tr>\n",
       "    <tr>\n",
       "      <th>std</th>\n",
       "      <td>11.324173</td>\n",
       "      <td>1.404973</td>\n",
       "      <td>0.356547</td>\n",
       "      <td>0.885127</td>\n",
       "      <td>1.004709</td>\n",
       "      <td>7.215722</td>\n",
       "      <td>34.747999</td>\n",
       "      <td>8.968696</td>\n",
       "      <td>85.751273</td>\n",
       "      <td>0.015738</td>\n",
       "      <td>0.034901</td>\n",
       "    </tr>\n",
       "    <tr>\n",
       "      <th>min</th>\n",
       "      <td>0.000000</td>\n",
       "      <td>1.000000</td>\n",
       "      <td>0.000000</td>\n",
       "      <td>0.000000</td>\n",
       "      <td>1.000000</td>\n",
       "      <td>1.000000</td>\n",
       "      <td>0.000000</td>\n",
       "      <td>1.000000</td>\n",
       "      <td>19.000000</td>\n",
       "      <td>52.290308</td>\n",
       "      <td>4.753513</td>\n",
       "    </tr>\n",
       "    <tr>\n",
       "      <th>25%</th>\n",
       "      <td>1.000000</td>\n",
       "      <td>2.000000</td>\n",
       "      <td>1.000000</td>\n",
       "      <td>1.000000</td>\n",
       "      <td>1.000000</td>\n",
       "      <td>2.000000</td>\n",
       "      <td>2.000000</td>\n",
       "      <td>1.000000</td>\n",
       "      <td>90.000000</td>\n",
       "      <td>52.355616</td>\n",
       "      <td>4.865016</td>\n",
       "    </tr>\n",
       "    <tr>\n",
       "      <th>50%</th>\n",
       "      <td>1.000000</td>\n",
       "      <td>2.000000</td>\n",
       "      <td>1.000000</td>\n",
       "      <td>1.000000</td>\n",
       "      <td>1.000000</td>\n",
       "      <td>2.000000</td>\n",
       "      <td>7.000000</td>\n",
       "      <td>1.000000</td>\n",
       "      <td>118.000000</td>\n",
       "      <td>52.365028</td>\n",
       "      <td>4.886344</td>\n",
       "    </tr>\n",
       "    <tr>\n",
       "      <th>75%</th>\n",
       "      <td>1.000000</td>\n",
       "      <td>4.000000</td>\n",
       "      <td>1.000000</td>\n",
       "      <td>2.000000</td>\n",
       "      <td>2.000000</td>\n",
       "      <td>3.000000</td>\n",
       "      <td>18.000000</td>\n",
       "      <td>1.000000</td>\n",
       "      <td>150.000000</td>\n",
       "      <td>52.374829</td>\n",
       "      <td>4.907857</td>\n",
       "    </tr>\n",
       "    <tr>\n",
       "      <th>max</th>\n",
       "      <td>106.000000</td>\n",
       "      <td>17.000000</td>\n",
       "      <td>8.000000</td>\n",
       "      <td>10.000000</td>\n",
       "      <td>16.000000</td>\n",
       "      <td>523.000000</td>\n",
       "      <td>496.000000</td>\n",
       "      <td>91.000000</td>\n",
       "      <td>3142.000000</td>\n",
       "      <td>52.426224</td>\n",
       "      <td>5.027689</td>\n",
       "    </tr>\n",
       "  </tbody>\n",
       "</table>\n",
       "</div>"
      ],
      "text/plain": [
       "       host_listings_count  accommodates     bathrooms      bedrooms  \\\n",
       "count         15178.000000  15181.000000  15163.000000  15169.000000   \n",
       "mean              3.404994      2.917858      1.122832      1.412222   \n",
       "std              11.324173      1.404973      0.356547      0.885127   \n",
       "min               0.000000      1.000000      0.000000      0.000000   \n",
       "25%               1.000000      2.000000      1.000000      1.000000   \n",
       "50%               1.000000      2.000000      1.000000      1.000000   \n",
       "75%               1.000000      4.000000      1.000000      2.000000   \n",
       "max             106.000000     17.000000      8.000000     10.000000   \n",
       "\n",
       "       guests_included  minimum_nights  number_of_reviews  \\\n",
       "count     15181.000000    15181.000000       15181.000000   \n",
       "mean          1.516106        2.882551          17.785456   \n",
       "std           1.004709        7.215722          34.747999   \n",
       "min           1.000000        1.000000           0.000000   \n",
       "25%           1.000000        2.000000           2.000000   \n",
       "50%           1.000000        2.000000           7.000000   \n",
       "75%           2.000000        3.000000          18.000000   \n",
       "max          16.000000      523.000000         496.000000   \n",
       "\n",
       "       calculated_host_listings_count         price      latitude  \\\n",
       "count                    15181.000000  15181.000000  15181.000000   \n",
       "mean                         2.934787    134.799223     52.365353   \n",
       "std                          8.968696     85.751273      0.015738   \n",
       "min                          1.000000     19.000000     52.290308   \n",
       "25%                          1.000000     90.000000     52.355616   \n",
       "50%                          1.000000    118.000000     52.365028   \n",
       "75%                          1.000000    150.000000     52.374829   \n",
       "max                         91.000000   3142.000000     52.426224   \n",
       "\n",
       "          longitude  \n",
       "count  15181.000000  \n",
       "mean       4.889025  \n",
       "std        0.034901  \n",
       "min        4.753513  \n",
       "25%        4.865016  \n",
       "50%        4.886344  \n",
       "75%        4.907857  \n",
       "max        5.027689  "
      ]
     },
     "execution_count": 15,
     "metadata": {},
     "output_type": "execute_result"
    }
   ],
   "source": [
    "ams.describe()\n"
   ]
  },
  {
   "cell_type": "code",
   "execution_count": 16,
   "metadata": {},
   "outputs": [],
   "source": [
    "dt=pd.DataFrame(ams['price'])\n"
   ]
  },
  {
   "cell_type": "code",
   "execution_count": 17,
   "metadata": {},
   "outputs": [
    {
     "data": {
      "text/plain": [
       "host_listings_count               float64\n",
       "accommodates                        int64\n",
       "bathrooms                         float64\n",
       "bedrooms                          float64\n",
       "guests_included                     int64\n",
       "minimum_nights                      int64\n",
       "number_of_reviews                   int64\n",
       "calculated_host_listings_count      int64\n",
       "price                             float64\n",
       "latitude                          float64\n",
       "longitude                         float64\n",
       "room_type                          object\n",
       "instant_bookable                   object\n",
       "dtype: object"
      ]
     },
     "execution_count": 17,
     "metadata": {},
     "output_type": "execute_result"
    }
   ],
   "source": [
    "ams.dtypes\n"
   ]
  },
  {
   "cell_type": "code",
   "execution_count": 18,
   "metadata": {},
   "outputs": [],
   "source": [
    "ams=ams[(ams.price<=440.0)]\n",
    "ams=ams.dropna()"
   ]
  },
  {
   "cell_type": "code",
   "execution_count": 19,
   "metadata": {},
   "outputs": [
    {
     "data": {
      "text/plain": [
       "0        145.0\n",
       "1         88.0\n",
       "10       130.0\n",
       "100       90.0\n",
       "1000      39.0\n",
       "10000    118.0\n",
       "10001    129.0\n",
       "10002    130.0\n",
       "10003    135.0\n",
       "10004     94.0\n",
       "10005    110.0\n",
       "10006    120.0\n",
       "10007     60.0\n",
       "10008     95.0\n",
       "10009    125.0\n",
       "1001      90.0\n",
       "10010    180.0\n",
       "10011    138.0\n",
       "10012    130.0\n",
       "10013    185.0\n",
       "10014     95.0\n",
       "10015     75.0\n",
       "10016     65.0\n",
       "10017    100.0\n",
       "10018     99.0\n",
       "10019    175.0\n",
       "1002     110.0\n",
       "10020    125.0\n",
       "10021    110.0\n",
       "10022    130.0\n",
       "         ...  \n",
       "9970      60.0\n",
       "9971      99.0\n",
       "9972     109.0\n",
       "9973      55.0\n",
       "9974     125.0\n",
       "9975     150.0\n",
       "9976     160.0\n",
       "9977     250.0\n",
       "9978      89.0\n",
       "9979     200.0\n",
       "998       60.0\n",
       "9980     260.0\n",
       "9981     150.0\n",
       "9983     280.0\n",
       "9984      85.0\n",
       "9985     115.0\n",
       "9986      85.0\n",
       "9988      95.0\n",
       "9989      80.0\n",
       "999      420.0\n",
       "9990     150.0\n",
       "9991      70.0\n",
       "9992     140.0\n",
       "9993     175.0\n",
       "9994     270.0\n",
       "9995     105.0\n",
       "9996     150.0\n",
       "9997     320.0\n",
       "9998      55.0\n",
       "9999      55.0\n",
       "Name: price, Length: 14998, dtype: float64"
      ]
     },
     "execution_count": 19,
     "metadata": {},
     "output_type": "execute_result"
    }
   ],
   "source": [
    "ams['price']"
   ]
  },
  {
   "cell_type": "code",
   "execution_count": 20,
   "metadata": {},
   "outputs": [
    {
     "data": {
      "text/plain": [
       "(14998, 13)"
      ]
     },
     "execution_count": 20,
     "metadata": {},
     "output_type": "execute_result"
    }
   ],
   "source": [
    "ams.shape"
   ]
  },
  {
   "cell_type": "code",
   "execution_count": 21,
   "metadata": {},
   "outputs": [],
   "source": [
    "a_latitude=52.379189\n",
    "a_longitude=4.899431"
   ]
  },
  {
   "cell_type": "code",
   "execution_count": 22,
   "metadata": {},
   "outputs": [],
   "source": [
    "from math import radians, cos, sin, asin, sqrt\n",
    "def haversine(lon1, lat1, lon2, lat2):\n",
    "    \"\"\"\n",
    "    Calculate the great circle distance between two points \n",
    "    on the earth (specified in decimal degrees)\n",
    "    \"\"\"\n",
    "    # convert decimal degrees to radians \n",
    "    lon1, lat1, lon2, lat2 = map(radians, [lon1, lat1, lon2, lat2])\n",
    "    # haversine formula \n",
    "    dlon = lon2 - lon1 \n",
    "    dlat = lat2 - lat1 \n",
    "    a = sin(dlat/2)**2 + cos(lat1) * cos(lat2) * sin(dlon/2)**2\n",
    "    c = 2 * asin(sqrt(a)) \n",
    "    km = 6367 * c\n",
    "    return km"
   ]
  },
  {
   "cell_type": "code",
   "execution_count": 23,
   "metadata": {},
   "outputs": [],
   "source": [
    "for index, row in ams.iterrows():\n",
    "    ams.loc[index, 'distance'] = haversine(a_longitude, a_latitude, row['longitude'], row['latitude'])"
   ]
  },
  {
   "cell_type": "code",
   "execution_count": 24,
   "metadata": {},
   "outputs": [
    {
     "data": {
      "text/html": [
       "<div>\n",
       "<style scoped>\n",
       "    .dataframe tbody tr th:only-of-type {\n",
       "        vertical-align: middle;\n",
       "    }\n",
       "\n",
       "    .dataframe tbody tr th {\n",
       "        vertical-align: top;\n",
       "    }\n",
       "\n",
       "    .dataframe thead th {\n",
       "        text-align: right;\n",
       "    }\n",
       "</style>\n",
       "<table border=\"1\" class=\"dataframe\">\n",
       "  <thead>\n",
       "    <tr style=\"text-align: right;\">\n",
       "      <th></th>\n",
       "      <th>host_listings_count</th>\n",
       "      <th>accommodates</th>\n",
       "      <th>bathrooms</th>\n",
       "      <th>bedrooms</th>\n",
       "      <th>guests_included</th>\n",
       "      <th>minimum_nights</th>\n",
       "      <th>number_of_reviews</th>\n",
       "      <th>calculated_host_listings_count</th>\n",
       "      <th>price</th>\n",
       "      <th>latitude</th>\n",
       "      <th>longitude</th>\n",
       "      <th>room_type</th>\n",
       "      <th>instant_bookable</th>\n",
       "      <th>distance</th>\n",
       "    </tr>\n",
       "  </thead>\n",
       "  <tbody>\n",
       "    <tr>\n",
       "      <th>0</th>\n",
       "      <td>1.0</td>\n",
       "      <td>6</td>\n",
       "      <td>1.0</td>\n",
       "      <td>2.0</td>\n",
       "      <td>1</td>\n",
       "      <td>3</td>\n",
       "      <td>4</td>\n",
       "      <td>1</td>\n",
       "      <td>145.0</td>\n",
       "      <td>52.361173</td>\n",
       "      <td>4.866755</td>\n",
       "      <td>Entire home/apt</td>\n",
       "      <td>f</td>\n",
       "      <td>2.987199</td>\n",
       "    </tr>\n",
       "    <tr>\n",
       "      <th>1</th>\n",
       "      <td>1.0</td>\n",
       "      <td>2</td>\n",
       "      <td>1.0</td>\n",
       "      <td>1.0</td>\n",
       "      <td>1</td>\n",
       "      <td>2</td>\n",
       "      <td>17</td>\n",
       "      <td>1</td>\n",
       "      <td>88.0</td>\n",
       "      <td>52.370237</td>\n",
       "      <td>4.859507</td>\n",
       "      <td>Entire home/apt</td>\n",
       "      <td>f</td>\n",
       "      <td>2.885443</td>\n",
       "    </tr>\n",
       "    <tr>\n",
       "      <th>10</th>\n",
       "      <td>1.0</td>\n",
       "      <td>2</td>\n",
       "      <td>1.0</td>\n",
       "      <td>1.0</td>\n",
       "      <td>1</td>\n",
       "      <td>3</td>\n",
       "      <td>0</td>\n",
       "      <td>1</td>\n",
       "      <td>130.0</td>\n",
       "      <td>52.371424</td>\n",
       "      <td>4.848644</td>\n",
       "      <td>Entire home/apt</td>\n",
       "      <td>f</td>\n",
       "      <td>3.551815</td>\n",
       "    </tr>\n",
       "    <tr>\n",
       "      <th>100</th>\n",
       "      <td>1.0</td>\n",
       "      <td>5</td>\n",
       "      <td>1.0</td>\n",
       "      <td>4.0</td>\n",
       "      <td>1</td>\n",
       "      <td>5</td>\n",
       "      <td>2</td>\n",
       "      <td>1</td>\n",
       "      <td>90.0</td>\n",
       "      <td>52.312889</td>\n",
       "      <td>4.980151</td>\n",
       "      <td>Entire home/apt</td>\n",
       "      <td>f</td>\n",
       "      <td>9.181975</td>\n",
       "    </tr>\n",
       "    <tr>\n",
       "      <th>1000</th>\n",
       "      <td>1.0</td>\n",
       "      <td>1</td>\n",
       "      <td>1.0</td>\n",
       "      <td>1.0</td>\n",
       "      <td>1</td>\n",
       "      <td>1</td>\n",
       "      <td>32</td>\n",
       "      <td>1</td>\n",
       "      <td>39.0</td>\n",
       "      <td>52.395334</td>\n",
       "      <td>4.916701</td>\n",
       "      <td>Private room</td>\n",
       "      <td>t</td>\n",
       "      <td>2.142603</td>\n",
       "    </tr>\n",
       "  </tbody>\n",
       "</table>\n",
       "</div>"
      ],
      "text/plain": [
       "      host_listings_count  accommodates  bathrooms  bedrooms  guests_included  \\\n",
       "0                     1.0             6        1.0       2.0                1   \n",
       "1                     1.0             2        1.0       1.0                1   \n",
       "10                    1.0             2        1.0       1.0                1   \n",
       "100                   1.0             5        1.0       4.0                1   \n",
       "1000                  1.0             1        1.0       1.0                1   \n",
       "\n",
       "      minimum_nights  number_of_reviews  calculated_host_listings_count  \\\n",
       "0                  3                  4                               1   \n",
       "1                  2                 17                               1   \n",
       "10                 3                  0                               1   \n",
       "100                5                  2                               1   \n",
       "1000               1                 32                               1   \n",
       "\n",
       "      price   latitude  longitude        room_type instant_bookable  distance  \n",
       "0     145.0  52.361173   4.866755  Entire home/apt                f  2.987199  \n",
       "1      88.0  52.370237   4.859507  Entire home/apt                f  2.885443  \n",
       "10    130.0  52.371424   4.848644  Entire home/apt                f  3.551815  \n",
       "100    90.0  52.312889   4.980151  Entire home/apt                f  9.181975  \n",
       "1000   39.0  52.395334   4.916701     Private room                t  2.142603  "
      ]
     },
     "execution_count": 24,
     "metadata": {},
     "output_type": "execute_result"
    }
   ],
   "source": [
    "ams.head()\n"
   ]
  },
  {
   "cell_type": "code",
   "execution_count": 25,
   "metadata": {},
   "outputs": [],
   "source": [
    "ams.sort_values([\"distance\"], axis=0, ascending=True, inplace=True) "
   ]
  },
  {
   "cell_type": "code",
   "execution_count": 26,
   "metadata": {},
   "outputs": [
    {
     "data": {
      "text/html": [
       "<div>\n",
       "<style scoped>\n",
       "    .dataframe tbody tr th:only-of-type {\n",
       "        vertical-align: middle;\n",
       "    }\n",
       "\n",
       "    .dataframe tbody tr th {\n",
       "        vertical-align: top;\n",
       "    }\n",
       "\n",
       "    .dataframe thead th {\n",
       "        text-align: right;\n",
       "    }\n",
       "</style>\n",
       "<table border=\"1\" class=\"dataframe\">\n",
       "  <thead>\n",
       "    <tr style=\"text-align: right;\">\n",
       "      <th></th>\n",
       "      <th>host_listings_count</th>\n",
       "      <th>accommodates</th>\n",
       "      <th>bathrooms</th>\n",
       "      <th>bedrooms</th>\n",
       "      <th>guests_included</th>\n",
       "      <th>minimum_nights</th>\n",
       "      <th>number_of_reviews</th>\n",
       "      <th>calculated_host_listings_count</th>\n",
       "      <th>price</th>\n",
       "      <th>latitude</th>\n",
       "      <th>longitude</th>\n",
       "      <th>room_type</th>\n",
       "      <th>instant_bookable</th>\n",
       "      <th>distance</th>\n",
       "    </tr>\n",
       "  </thead>\n",
       "  <tbody>\n",
       "    <tr>\n",
       "      <th>3158</th>\n",
       "      <td>1.0</td>\n",
       "      <td>2</td>\n",
       "      <td>1.5</td>\n",
       "      <td>1.0</td>\n",
       "      <td>1</td>\n",
       "      <td>1</td>\n",
       "      <td>0</td>\n",
       "      <td>1</td>\n",
       "      <td>85.0</td>\n",
       "      <td>52.378546</td>\n",
       "      <td>4.900775</td>\n",
       "      <td>Private room</td>\n",
       "      <td>f</td>\n",
       "      <td>0.115801</td>\n",
       "    </tr>\n",
       "    <tr>\n",
       "      <th>3168</th>\n",
       "      <td>1.0</td>\n",
       "      <td>4</td>\n",
       "      <td>1.0</td>\n",
       "      <td>1.0</td>\n",
       "      <td>1</td>\n",
       "      <td>1</td>\n",
       "      <td>0</td>\n",
       "      <td>1</td>\n",
       "      <td>41.0</td>\n",
       "      <td>52.378850</td>\n",
       "      <td>4.901433</td>\n",
       "      <td>Shared room</td>\n",
       "      <td>f</td>\n",
       "      <td>0.140946</td>\n",
       "    </tr>\n",
       "    <tr>\n",
       "      <th>2639</th>\n",
       "      <td>1.0</td>\n",
       "      <td>4</td>\n",
       "      <td>1.0</td>\n",
       "      <td>1.0</td>\n",
       "      <td>2</td>\n",
       "      <td>3</td>\n",
       "      <td>27</td>\n",
       "      <td>1</td>\n",
       "      <td>159.0</td>\n",
       "      <td>52.379089</td>\n",
       "      <td>4.897293</td>\n",
       "      <td>Entire home/apt</td>\n",
       "      <td>f</td>\n",
       "      <td>0.145468</td>\n",
       "    </tr>\n",
       "    <tr>\n",
       "      <th>3010</th>\n",
       "      <td>4.0</td>\n",
       "      <td>2</td>\n",
       "      <td>1.0</td>\n",
       "      <td>1.0</td>\n",
       "      <td>1</td>\n",
       "      <td>1</td>\n",
       "      <td>4</td>\n",
       "      <td>4</td>\n",
       "      <td>150.0</td>\n",
       "      <td>52.378549</td>\n",
       "      <td>4.896679</td>\n",
       "      <td>Private room</td>\n",
       "      <td>t</td>\n",
       "      <td>0.199767</td>\n",
       "    </tr>\n",
       "    <tr>\n",
       "      <th>1860</th>\n",
       "      <td>1.0</td>\n",
       "      <td>2</td>\n",
       "      <td>1.0</td>\n",
       "      <td>1.0</td>\n",
       "      <td>1</td>\n",
       "      <td>1</td>\n",
       "      <td>9</td>\n",
       "      <td>1</td>\n",
       "      <td>120.0</td>\n",
       "      <td>52.378398</td>\n",
       "      <td>4.896674</td>\n",
       "      <td>Private room</td>\n",
       "      <td>f</td>\n",
       "      <td>0.206638</td>\n",
       "    </tr>\n",
       "  </tbody>\n",
       "</table>\n",
       "</div>"
      ],
      "text/plain": [
       "      host_listings_count  accommodates  bathrooms  bedrooms  guests_included  \\\n",
       "3158                  1.0             2        1.5       1.0                1   \n",
       "3168                  1.0             4        1.0       1.0                1   \n",
       "2639                  1.0             4        1.0       1.0                2   \n",
       "3010                  4.0             2        1.0       1.0                1   \n",
       "1860                  1.0             2        1.0       1.0                1   \n",
       "\n",
       "      minimum_nights  number_of_reviews  calculated_host_listings_count  \\\n",
       "3158               1                  0                               1   \n",
       "3168               1                  0                               1   \n",
       "2639               3                 27                               1   \n",
       "3010               1                  4                               4   \n",
       "1860               1                  9                               1   \n",
       "\n",
       "      price   latitude  longitude        room_type instant_bookable  distance  \n",
       "3158   85.0  52.378546   4.900775     Private room                f  0.115801  \n",
       "3168   41.0  52.378850   4.901433      Shared room                f  0.140946  \n",
       "2639  159.0  52.379089   4.897293  Entire home/apt                f  0.145468  \n",
       "3010  150.0  52.378549   4.896679     Private room                t  0.199767  \n",
       "1860  120.0  52.378398   4.896674     Private room                f  0.206638  "
      ]
     },
     "execution_count": 26,
     "metadata": {},
     "output_type": "execute_result"
    }
   ],
   "source": [
    "ams.head()"
   ]
  },
  {
   "cell_type": "code",
   "execution_count": 27,
   "metadata": {},
   "outputs": [
    {
     "name": "stderr",
     "output_type": "stream",
     "text": [
      "C:\\Users\\Admin\\Anaconda3\\lib\\site-packages\\ipykernel_launcher.py:1: FutureWarning: convert_objects is deprecated.  To re-infer data dtypes for object columns, use DataFrame.infer_objects()\n",
      "For all other conversions use the data-type specific converters pd.to_datetime, pd.to_timedelta and pd.to_numeric.\n",
      "  \"\"\"Entry point for launching an IPython kernel.\n"
     ]
    },
    {
     "data": {
      "text/plain": [
       "count    298.000000\n",
       "mean     118.097315\n",
       "std       48.073043\n",
       "min       38.000000\n",
       "25%       88.000000\n",
       "50%      105.000000\n",
       "75%      139.000000\n",
       "max      345.000000\n",
       "Name: price, dtype: float64"
      ]
     },
     "execution_count": 27,
     "metadata": {},
     "output_type": "execute_result"
    }
   ],
   "source": [
    "ams=ams.convert_objects(convert_numeric=True)\n",
    "\n",
    "\n",
    "dt3=ams[ams.room_type=='Private room']\n",
    "dt3=dt3[dt3.distance<=1]\n",
    "dt3.price.describe()"
   ]
  },
  {
   "cell_type": "code",
   "execution_count": 28,
   "metadata": {},
   "outputs": [],
   "source": [
    "ams=pd.get_dummies(ams)\n"
   ]
  },
  {
   "cell_type": "code",
   "execution_count": 29,
   "metadata": {},
   "outputs": [
    {
     "data": {
      "text/html": [
       "<div>\n",
       "<style scoped>\n",
       "    .dataframe tbody tr th:only-of-type {\n",
       "        vertical-align: middle;\n",
       "    }\n",
       "\n",
       "    .dataframe tbody tr th {\n",
       "        vertical-align: top;\n",
       "    }\n",
       "\n",
       "    .dataframe thead th {\n",
       "        text-align: right;\n",
       "    }\n",
       "</style>\n",
       "<table border=\"1\" class=\"dataframe\">\n",
       "  <thead>\n",
       "    <tr style=\"text-align: right;\">\n",
       "      <th></th>\n",
       "      <th>host_listings_count</th>\n",
       "      <th>accommodates</th>\n",
       "      <th>bathrooms</th>\n",
       "      <th>bedrooms</th>\n",
       "      <th>guests_included</th>\n",
       "      <th>minimum_nights</th>\n",
       "      <th>number_of_reviews</th>\n",
       "      <th>calculated_host_listings_count</th>\n",
       "      <th>price</th>\n",
       "      <th>latitude</th>\n",
       "      <th>longitude</th>\n",
       "      <th>distance</th>\n",
       "      <th>room_type_Entire home/apt</th>\n",
       "      <th>room_type_Private room</th>\n",
       "      <th>room_type_Shared room</th>\n",
       "      <th>instant_bookable_f</th>\n",
       "      <th>instant_bookable_t</th>\n",
       "    </tr>\n",
       "  </thead>\n",
       "  <tbody>\n",
       "    <tr>\n",
       "      <th>3158</th>\n",
       "      <td>1.0</td>\n",
       "      <td>2</td>\n",
       "      <td>1.5</td>\n",
       "      <td>1.0</td>\n",
       "      <td>1</td>\n",
       "      <td>1</td>\n",
       "      <td>0</td>\n",
       "      <td>1</td>\n",
       "      <td>85.0</td>\n",
       "      <td>52.378546</td>\n",
       "      <td>4.900775</td>\n",
       "      <td>0.115801</td>\n",
       "      <td>0</td>\n",
       "      <td>1</td>\n",
       "      <td>0</td>\n",
       "      <td>1</td>\n",
       "      <td>0</td>\n",
       "    </tr>\n",
       "    <tr>\n",
       "      <th>3168</th>\n",
       "      <td>1.0</td>\n",
       "      <td>4</td>\n",
       "      <td>1.0</td>\n",
       "      <td>1.0</td>\n",
       "      <td>1</td>\n",
       "      <td>1</td>\n",
       "      <td>0</td>\n",
       "      <td>1</td>\n",
       "      <td>41.0</td>\n",
       "      <td>52.378850</td>\n",
       "      <td>4.901433</td>\n",
       "      <td>0.140946</td>\n",
       "      <td>0</td>\n",
       "      <td>0</td>\n",
       "      <td>1</td>\n",
       "      <td>1</td>\n",
       "      <td>0</td>\n",
       "    </tr>\n",
       "    <tr>\n",
       "      <th>2639</th>\n",
       "      <td>1.0</td>\n",
       "      <td>4</td>\n",
       "      <td>1.0</td>\n",
       "      <td>1.0</td>\n",
       "      <td>2</td>\n",
       "      <td>3</td>\n",
       "      <td>27</td>\n",
       "      <td>1</td>\n",
       "      <td>159.0</td>\n",
       "      <td>52.379089</td>\n",
       "      <td>4.897293</td>\n",
       "      <td>0.145468</td>\n",
       "      <td>1</td>\n",
       "      <td>0</td>\n",
       "      <td>0</td>\n",
       "      <td>1</td>\n",
       "      <td>0</td>\n",
       "    </tr>\n",
       "    <tr>\n",
       "      <th>3010</th>\n",
       "      <td>4.0</td>\n",
       "      <td>2</td>\n",
       "      <td>1.0</td>\n",
       "      <td>1.0</td>\n",
       "      <td>1</td>\n",
       "      <td>1</td>\n",
       "      <td>4</td>\n",
       "      <td>4</td>\n",
       "      <td>150.0</td>\n",
       "      <td>52.378549</td>\n",
       "      <td>4.896679</td>\n",
       "      <td>0.199767</td>\n",
       "      <td>0</td>\n",
       "      <td>1</td>\n",
       "      <td>0</td>\n",
       "      <td>0</td>\n",
       "      <td>1</td>\n",
       "    </tr>\n",
       "    <tr>\n",
       "      <th>1860</th>\n",
       "      <td>1.0</td>\n",
       "      <td>2</td>\n",
       "      <td>1.0</td>\n",
       "      <td>1.0</td>\n",
       "      <td>1</td>\n",
       "      <td>1</td>\n",
       "      <td>9</td>\n",
       "      <td>1</td>\n",
       "      <td>120.0</td>\n",
       "      <td>52.378398</td>\n",
       "      <td>4.896674</td>\n",
       "      <td>0.206638</td>\n",
       "      <td>0</td>\n",
       "      <td>1</td>\n",
       "      <td>0</td>\n",
       "      <td>1</td>\n",
       "      <td>0</td>\n",
       "    </tr>\n",
       "  </tbody>\n",
       "</table>\n",
       "</div>"
      ],
      "text/plain": [
       "      host_listings_count  accommodates  bathrooms  bedrooms  guests_included  \\\n",
       "3158                  1.0             2        1.5       1.0                1   \n",
       "3168                  1.0             4        1.0       1.0                1   \n",
       "2639                  1.0             4        1.0       1.0                2   \n",
       "3010                  4.0             2        1.0       1.0                1   \n",
       "1860                  1.0             2        1.0       1.0                1   \n",
       "\n",
       "      minimum_nights  number_of_reviews  calculated_host_listings_count  \\\n",
       "3158               1                  0                               1   \n",
       "3168               1                  0                               1   \n",
       "2639               3                 27                               1   \n",
       "3010               1                  4                               4   \n",
       "1860               1                  9                               1   \n",
       "\n",
       "      price   latitude  longitude  distance  room_type_Entire home/apt  \\\n",
       "3158   85.0  52.378546   4.900775  0.115801                          0   \n",
       "3168   41.0  52.378850   4.901433  0.140946                          0   \n",
       "2639  159.0  52.379089   4.897293  0.145468                          1   \n",
       "3010  150.0  52.378549   4.896679  0.199767                          0   \n",
       "1860  120.0  52.378398   4.896674  0.206638                          0   \n",
       "\n",
       "      room_type_Private room  room_type_Shared room  instant_bookable_f  \\\n",
       "3158                       1                      0                   1   \n",
       "3168                       0                      1                   1   \n",
       "2639                       0                      0                   1   \n",
       "3010                       1                      0                   0   \n",
       "1860                       1                      0                   1   \n",
       "\n",
       "      instant_bookable_t  \n",
       "3158                   0  \n",
       "3168                   0  \n",
       "2639                   0  \n",
       "3010                   1  \n",
       "1860                   0  "
      ]
     },
     "execution_count": 29,
     "metadata": {},
     "output_type": "execute_result"
    }
   ],
   "source": [
    "ams.head()\n"
   ]
  },
  {
   "cell_type": "code",
   "execution_count": 30,
   "metadata": {},
   "outputs": [
    {
     "data": {
      "text/plain": [
       "(14998, 17)"
      ]
     },
     "execution_count": 30,
     "metadata": {},
     "output_type": "execute_result"
    }
   ],
   "source": [
    "ams.shape"
   ]
  },
  {
   "cell_type": "code",
   "execution_count": 31,
   "metadata": {},
   "outputs": [],
   "source": [
    "X=ams.drop(['price'],axis=1)\n"
   ]
  },
  {
   "cell_type": "code",
   "execution_count": 32,
   "metadata": {},
   "outputs": [
    {
     "data": {
      "text/plain": [
       "(14998, 16)"
      ]
     },
     "execution_count": 32,
     "metadata": {},
     "output_type": "execute_result"
    }
   ],
   "source": [
    "X.shape"
   ]
  },
  {
   "cell_type": "code",
   "execution_count": 33,
   "metadata": {},
   "outputs": [],
   "source": [
    "Y=ams['price']\n"
   ]
  },
  {
   "cell_type": "code",
   "execution_count": 34,
   "metadata": {},
   "outputs": [],
   "source": [
    "import sklearn.model_selection as model_selection\n",
    "\n",
    "X_train,X_test,Y_train,Y_test=model_selection.train_test_split(X,Y,test_size=0.3,random_state=200)"
   ]
  },
  {
   "cell_type": "code",
   "execution_count": 35,
   "metadata": {},
   "outputs": [
    {
     "data": {
      "text/plain": [
       "(10498, 16)"
      ]
     },
     "execution_count": 35,
     "metadata": {},
     "output_type": "execute_result"
    }
   ],
   "source": [
    "X_train.shape\n"
   ]
  },
  {
   "cell_type": "code",
   "execution_count": 36,
   "metadata": {},
   "outputs": [
    {
     "data": {
      "text/plain": [
       "(4500, 16)"
      ]
     },
     "execution_count": 36,
     "metadata": {},
     "output_type": "execute_result"
    }
   ],
   "source": [
    "X_test.shape\n"
   ]
  },
  {
   "cell_type": "code",
   "execution_count": 37,
   "metadata": {},
   "outputs": [],
   "source": [
    "from sklearn.ensemble import RandomForestRegressor\n"
   ]
  },
  {
   "cell_type": "code",
   "execution_count": 38,
   "metadata": {},
   "outputs": [
    {
     "name": "stdout",
     "output_type": "stream",
     "text": [
      "For n_estimators = 30\n",
      "OOB score is 0.47721943546314194\n",
      "************************\n",
      "For n_estimators = 40\n",
      "OOB score is 0.47895628878630025\n",
      "************************\n",
      "For n_estimators = 50\n",
      "OOB score is 0.4829089698883826\n",
      "************************\n",
      "For n_estimators = 60\n",
      "OOB score is 0.4832029576935779\n",
      "************************\n",
      "For n_estimators = 70\n",
      "OOB score is 0.4848603030345895\n",
      "************************\n",
      "For n_estimators = 80\n",
      "OOB score is 0.48564865477453534\n",
      "************************\n",
      "For n_estimators = 90\n",
      "OOB score is 0.48506487407167675\n",
      "************************\n",
      "For n_estimators = 100\n",
      "OOB score is 0.48486606728167403\n",
      "************************\n",
      "For n_estimators = 110\n",
      "OOB score is 0.48468301073753417\n",
      "************************\n",
      "For n_estimators = 120\n",
      "OOB score is 0.4849221849879941\n",
      "************************\n",
      "For n_estimators = 130\n",
      "OOB score is 0.48635290786884944\n",
      "************************\n",
      "For n_estimators = 140\n",
      "OOB score is 0.48667010608246386\n",
      "************************\n",
      "For n_estimators = 150\n",
      "OOB score is 0.48647424395820804\n",
      "************************\n",
      "For n_estimators = 160\n",
      "OOB score is 0.4867448159945643\n",
      "************************\n",
      "For n_estimators = 170\n",
      "OOB score is 0.4868201678248114\n",
      "************************\n",
      "For n_estimators = 180\n",
      "OOB score is 0.48723939844034947\n",
      "************************\n",
      "For n_estimators = 190\n",
      "OOB score is 0.4878015692732307\n",
      "************************\n",
      "For n_estimators = 200\n",
      "OOB score is 0.4881397056873864\n",
      "************************\n",
      "For n_estimators = 210\n",
      "OOB score is 0.48805767873686823\n",
      "************************\n",
      "For n_estimators = 220\n",
      "OOB score is 0.48843680501572895\n",
      "************************\n",
      "For n_estimators = 230\n",
      "OOB score is 0.4883812370084658\n",
      "************************\n",
      "For n_estimators = 240\n",
      "OOB score is 0.4884907891463419\n",
      "************************\n",
      "For n_estimators = 250\n",
      "OOB score is 0.4881295613716148\n",
      "************************\n",
      "For n_estimators = 260\n",
      "OOB score is 0.48809003190017763\n",
      "************************\n",
      "For n_estimators = 270\n",
      "OOB score is 0.48768670289332827\n",
      "************************\n",
      "For n_estimators = 280\n",
      "OOB score is 0.48773024474758864\n",
      "************************\n",
      "For n_estimators = 290\n",
      "OOB score is 0.48762931070591164\n",
      "************************\n",
      "For n_estimators = 300\n",
      "OOB score is 0.4878283693258716\n",
      "************************\n",
      "For n_estimators = 310\n",
      "OOB score is 0.4877512233191178\n",
      "************************\n",
      "For n_estimators = 320\n",
      "OOB score is 0.48801859115488166\n",
      "************************\n",
      "For n_estimators = 330\n",
      "OOB score is 0.4878787128735588\n",
      "************************\n",
      "For n_estimators = 340\n",
      "OOB score is 0.4875528808202182\n",
      "************************\n",
      "For n_estimators = 350\n",
      "OOB score is 0.4874737124278291\n",
      "************************\n",
      "For n_estimators = 360\n",
      "OOB score is 0.4874504309710741\n",
      "************************\n",
      "For n_estimators = 370\n",
      "OOB score is 0.48739712481851805\n",
      "************************\n",
      "For n_estimators = 380\n",
      "OOB score is 0.4873792875840446\n",
      "************************\n",
      "For n_estimators = 390\n",
      "OOB score is 0.48729404372120455\n",
      "************************\n",
      "For n_estimators = 400\n",
      "OOB score is 0.487227742716947\n",
      "************************\n",
      "For n_estimators = 410\n",
      "OOB score is 0.4873608490912045\n",
      "************************\n",
      "For n_estimators = 420\n",
      "OOB score is 0.4875892009709708\n",
      "************************\n",
      "For n_estimators = 430\n",
      "OOB score is 0.487896913107118\n",
      "************************\n",
      "For n_estimators = 440\n",
      "OOB score is 0.48799580339804904\n",
      "************************\n",
      "For n_estimators = 450\n",
      "OOB score is 0.48799751027642013\n",
      "************************\n",
      "For n_estimators = 460\n",
      "OOB score is 0.4882080293114409\n",
      "************************\n",
      "For n_estimators = 470\n",
      "OOB score is 0.4882222043495116\n",
      "************************\n",
      "For n_estimators = 480\n",
      "OOB score is 0.48816128452777074\n",
      "************************\n",
      "For n_estimators = 490\n",
      "OOB score is 0.4882007927681693\n",
      "************************\n",
      "For n_estimators = 500\n",
      "OOB score is 0.48826142480213053\n",
      "************************\n",
      "For n_estimators = 510\n",
      "OOB score is 0.4881331001867991\n",
      "************************\n",
      "For n_estimators = 520\n",
      "OOB score is 0.48806790771787734\n",
      "************************\n",
      "For n_estimators = 530\n",
      "OOB score is 0.488126020316874\n",
      "************************\n",
      "For n_estimators = 540\n",
      "OOB score is 0.4882104802904863\n",
      "************************\n",
      "For n_estimators = 550\n",
      "OOB score is 0.4882385813962149\n",
      "************************\n",
      "For n_estimators = 560\n",
      "OOB score is 0.4882289958534187\n",
      "************************\n",
      "For n_estimators = 570\n",
      "OOB score is 0.4882580387721325\n",
      "************************\n",
      "For n_estimators = 580\n",
      "OOB score is 0.4884027199896447\n",
      "************************\n",
      "For n_estimators = 590\n",
      "OOB score is 0.48843531932380846\n",
      "************************\n"
     ]
    }
   ],
   "source": [
    "for i in range(30,600,10):\n",
    "    reg=RandomForestRegressor(n_estimators=i,max_depth=5,max_features='sqrt',oob_score=True,random_state=200)\n",
    "    reg.fit(X_train,Y_train)\n",
    "    oob=reg.oob_score_\n",
    "    print('For n_estimators = '+str(i))\n",
    "    print('OOB score is '+str(oob))\n",
    "    print('************************')\n"
   ]
  },
  {
   "cell_type": "code",
   "execution_count": 39,
   "metadata": {},
   "outputs": [
    {
     "data": {
      "text/plain": [
       "2125.1560353921464"
      ]
     },
     "execution_count": 39,
     "metadata": {},
     "output_type": "execute_result"
    }
   ],
   "source": [
    "from sklearn import metrics\n",
    "metrics.mean_squared_error(Y_test,reg.predict(X_test))"
   ]
  },
  {
   "cell_type": "code",
   "execution_count": 40,
   "metadata": {},
   "outputs": [
    {
     "data": {
      "text/plain": [
       "RandomForestRegressor(bootstrap=True, criterion='mse', max_depth=5,\n",
       "                      max_features='sqrt', max_leaf_nodes=None,\n",
       "                      min_impurity_decrease=0.0, min_impurity_split=None,\n",
       "                      min_samples_leaf=1, min_samples_split=2,\n",
       "                      min_weight_fraction_leaf=0.0, n_estimators=320,\n",
       "                      n_jobs=None, oob_score=True, random_state=None, verbose=0,\n",
       "                      warm_start=False)"
      ]
     },
     "execution_count": 40,
     "metadata": {},
     "output_type": "execute_result"
    }
   ],
   "source": [
    "reg=RandomForestRegressor(n_estimators=320,max_depth=5,max_features='sqrt',oob_score=True)\n",
    "reg.fit(X_train,Y_train)"
   ]
  },
  {
   "cell_type": "code",
   "execution_count": 41,
   "metadata": {},
   "outputs": [
    {
     "data": {
      "text/plain": [
       "0.476754396182232"
      ]
     },
     "execution_count": 41,
     "metadata": {},
     "output_type": "execute_result"
    }
   ],
   "source": [
    "reg.score(X_test,Y_test)\n"
   ]
  },
  {
   "cell_type": "code",
   "execution_count": 42,
   "metadata": {},
   "outputs": [
    {
     "data": {
      "text/plain": [
       "0.4883164319941181"
      ]
     },
     "execution_count": 42,
     "metadata": {},
     "output_type": "execute_result"
    }
   ],
   "source": [
    "reg.oob_score_\n"
   ]
  },
  {
   "cell_type": "code",
   "execution_count": 43,
   "metadata": {},
   "outputs": [
    {
     "data": {
      "text/plain": [
       "2126.001313192747"
      ]
     },
     "execution_count": 43,
     "metadata": {},
     "output_type": "execute_result"
    }
   ],
   "source": [
    "from sklearn import metrics\n",
    "metrics.mean_squared_error(Y_test,reg.predict(X_test))\n"
   ]
  },
  {
   "cell_type": "code",
   "execution_count": 44,
   "metadata": {},
   "outputs": [
    {
     "data": {
      "text/plain": [
       "RandomForestRegressor(bootstrap=True, criterion='mse', max_depth=5,\n",
       "                      max_features='sqrt', max_leaf_nodes=None,\n",
       "                      min_impurity_decrease=0.0, min_impurity_split=None,\n",
       "                      min_samples_leaf=1, min_samples_split=2,\n",
       "                      min_weight_fraction_leaf=0.0, n_estimators=320,\n",
       "                      n_jobs=None, oob_score=True, random_state=None, verbose=0,\n",
       "                      warm_start=False)"
      ]
     },
     "execution_count": 44,
     "metadata": {},
     "output_type": "execute_result"
    }
   ],
   "source": [
    "reg=RandomForestRegressor(n_estimators=320,max_depth=5,max_features='sqrt',oob_score=True)\n",
    "reg.fit(X_train,Y_train)"
   ]
  },
  {
   "cell_type": "code",
   "execution_count": 45,
   "metadata": {},
   "outputs": [
    {
     "data": {
      "text/plain": [
       "0.4750502222726554"
      ]
     },
     "execution_count": 45,
     "metadata": {},
     "output_type": "execute_result"
    }
   ],
   "source": [
    "reg.score(X_test,Y_test)\n"
   ]
  },
  {
   "cell_type": "code",
   "execution_count": 46,
   "metadata": {},
   "outputs": [
    {
     "data": {
      "text/plain": [
       "0.4883658772206362"
      ]
     },
     "execution_count": 46,
     "metadata": {},
     "output_type": "execute_result"
    }
   ],
   "source": [
    "reg.oob_score_\n"
   ]
  },
  {
   "cell_type": "code",
   "execution_count": 47,
   "metadata": {},
   "outputs": [
    {
     "data": {
      "text/plain": [
       "array([7.11769356e-03, 3.06774456e-01, 7.24671462e-02, 2.52036550e-01,\n",
       "       6.85481616e-02, 6.06534576e-03, 2.96463463e-03, 1.17941199e-02,\n",
       "       1.59832429e-02, 3.50101322e-02, 6.21076730e-02, 9.19455707e-02,\n",
       "       6.60530867e-02, 1.56974120e-04, 5.03142746e-04, 4.72070186e-04])"
      ]
     },
     "execution_count": 47,
     "metadata": {},
     "output_type": "execute_result"
    }
   ],
   "source": [
    "reg.feature_importances_\n"
   ]
  },
  {
   "cell_type": "code",
   "execution_count": 48,
   "metadata": {},
   "outputs": [],
   "source": [
    "imp_feat=pd.Series(reg.feature_importances_,index=X.columns.tolist())\n"
   ]
  },
  {
   "cell_type": "code",
   "execution_count": 49,
   "metadata": {},
   "outputs": [
    {
     "data": {
      "text/plain": [
       "accommodates                      0.306774\n",
       "bedrooms                          0.252037\n",
       "room_type_Entire home/apt         0.091946\n",
       "bathrooms                         0.072467\n",
       "guests_included                   0.068548\n",
       "room_type_Private room            0.066053\n",
       "distance                          0.062108\n",
       "longitude                         0.035010\n",
       "latitude                          0.015983\n",
       "calculated_host_listings_count    0.011794\n",
       "host_listings_count               0.007118\n",
       "minimum_nights                    0.006065\n",
       "number_of_reviews                 0.002965\n",
       "instant_bookable_f                0.000503\n",
       "instant_bookable_t                0.000472\n",
       "room_type_Shared room             0.000157\n",
       "dtype: float64"
      ]
     },
     "execution_count": 49,
     "metadata": {},
     "output_type": "execute_result"
    }
   ],
   "source": [
    "imp_feat.sort_values(ascending=False)\n"
   ]
  },
  {
   "cell_type": "code",
   "execution_count": 50,
   "metadata": {},
   "outputs": [],
   "source": [
    "import numpy as np\n",
    "import matplotlib.pyplot as plt"
   ]
  },
  {
   "cell_type": "code",
   "execution_count": 51,
   "metadata": {},
   "outputs": [
    {
     "data": {
      "text/plain": [
       "array([157.68238703, 116.42645432, 110.92617626, ..., 111.5423783 ,\n",
       "       107.56963202, 120.3534524 ])"
      ]
     },
     "execution_count": 51,
     "metadata": {},
     "output_type": "execute_result"
    }
   ],
   "source": [
    "pred=reg.predict(X_test)\n",
    "pred"
   ]
  },
  {
   "cell_type": "code",
   "execution_count": 52,
   "metadata": {},
   "outputs": [],
   "source": [
    "Y=pd.DataFrame(ams['price'])\n"
   ]
  },
  {
   "cell_type": "code",
   "execution_count": 53,
   "metadata": {},
   "outputs": [],
   "source": [
    "Errors=Y_test-pred\n"
   ]
  },
  {
   "cell_type": "code",
   "execution_count": 54,
   "metadata": {},
   "outputs": [
    {
     "data": {
      "text/plain": [
       "11899    107.317613\n",
       "9047       8.573546\n",
       "12832    -28.926176\n",
       "8188       6.610031\n",
       "13811    -24.975565\n",
       "Name: price, dtype: float64"
      ]
     },
     "execution_count": 54,
     "metadata": {},
     "output_type": "execute_result"
    }
   ],
   "source": [
    "Errors.head()\n"
   ]
  },
  {
   "cell_type": "code",
   "execution_count": 55,
   "metadata": {},
   "outputs": [
    {
     "data": {
      "text/plain": [
       "<matplotlib.collections.PathCollection at 0x203a284bd30>"
      ]
     },
     "execution_count": 55,
     "metadata": {},
     "output_type": "execute_result"
    },
    {
     "data": {
      "image/png": "[encoded data removed]",
      "text/plain": [
       "<Figure size 432x288 with 1 Axes>"
      ]
     },
     "metadata": {
      "needs_background": "light"
     },
     "output_type": "display_data"
    }
   ],
   "source": [
    "plt.scatter(Y_test, Errors, alpha=0.5)\n"
   ]
  },
  {
   "cell_type": "code",
   "execution_count": 59,
   "metadata": {},
   "outputs": [],
   "source": [
    "d1=X_test['accommodates'].mean()"
   ]
  },
  {
   "cell_type": "code",
   "execution_count": 60,
   "metadata": {},
   "outputs": [],
   "source": [
    "d2=X_train['accommodates'].mean()"
   ]
  },
  {
   "cell_type": "code",
   "execution_count": 61,
   "metadata": {},
   "outputs": [],
   "source": [
    "d3=d2-d1"
   ]
  },
  {
   "cell_type": "code",
   "execution_count": 62,
   "metadata": {},
   "outputs": [
    {
     "data": {
      "text/plain": [
       "-0.04145373721978807"
      ]
     },
     "execution_count": 62,
     "metadata": {},
     "output_type": "execute_result"
    }
   ],
   "source": [
    "d3"
   ]
  },
  {
   "cell_type": "code",
   "execution_count": null,
   "metadata": {},
   "outputs": [],
   "source": []
  }
 ],
 "metadata": {
  "kernelspec": {
   "display_name": "Python 3",
   "language": "python",
   "name": "python3"
  },
  "language_info": {
   "codemirror_mode": {
    "name": "ipython",
    "version": 3
   },
   "file_extension": ".py",
   "mimetype": "text/x-python",
   "name": "python",
   "nbconvert_exporter": "python",
   "pygments_lexer": "ipython3",
   "version": "3.7.3"
  }
 },
 "nbformat": 4,
 "nbformat_minor": 2
}
